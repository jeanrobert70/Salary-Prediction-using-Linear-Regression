{
 "cells": [
  {
   "cell_type": "markdown",
   "id": "ab343f1a",
   "metadata": {},
   "source": [
    "# Predicting employee salary using Machine Learning\n",
    "\n",
    "This notebook looks into using linear regression in an attempt to build a machine learning model capable of predicting a new\n",
    "employee's salary based on their years of experience.\n",
    "\n",
    "We're going to take the follow approach:\n",
    "\n",
    "    1. Problem Defintiion\n",
    "    2. Data\n",
    "    3. Evaluation\n",
    "    4. Features\n",
    "    5. Modelling\n",
    "    6. Experimentation"
   ]
  },
  {
   "cell_type": "markdown",
   "id": "37af833f",
   "metadata": {},
   "source": [
    "## 1. Problem Definition\n",
    "\n",
    ">In a statement,\n",
    "    Given parameters of employees years of work experience and salaries, can we predict a new employee's salary?"
   ]
  },
  {
   "cell_type": "markdown",
   "id": "28f3e9b0",
   "metadata": {},
   "source": [
    "## 2. Data\n",
    "\n",
    ">This data consists of salary and years of experience of 35 jobholders. The data is a download csv file from Kaggle: https://www.kaggle.com/datasets/rsadiq/salary?resource=download"
   ]
  },
  {
   "cell_type": "markdown",
   "id": "ce16e7c3",
   "metadata": {},
   "source": [
    "## 3. Evaluation\n",
    "\n",
    "> If we can reach 95% accuracy at predicting a candidates salary during proof of concenpt, we'll pursue the project"
   ]
  },
  {
   "cell_type": "markdown",
   "id": "2259c35b",
   "metadata": {},
   "source": [
    "## 4. Features\n",
    "\n",
    ">The following is the feature we will use to predict our taget variable(salary).\n",
    "\n",
    "\n",
    "1. YearsExperience - years as a foating point number"
   ]
  },
  {
   "cell_type": "markdown",
   "id": "ade5cd16",
   "metadata": {},
   "source": [
    "## Preparing the tools"
   ]
  },
  {
   "cell_type": "code",
   "execution_count": 1,
   "id": "eaab61bd",
   "metadata": {},
   "outputs": [],
   "source": [
    "# Exploratory and plotting libraris\n",
    "import numpy as np\n",
    "import pandas as pd\n",
    "import matplotlib.pyplot as plt\n",
    "import seaborn as sns\n",
    "%matplotlib inline\n",
    "\n",
    "# Models\n",
    "from sklearn.linear_model import SGDRegressor\n",
    "from sklearn.ensemble import RandomForestRegressor\n",
    "\n",
    "# Model Evaluators\n",
    "from sklearn.model_selection import train_test_split, cross_val_score\n",
    "from sklearn.model_selection import RandomizedSearchCV, GridSearchCV\n",
    "from sklearn.metrics import r2_score, mean_absolute_error, mean_squared_error"
   ]
  },
  {
   "cell_type": "markdown",
   "id": "70e2bd17",
   "metadata": {},
   "source": [
    "## Load Data"
   ]
  },
  {
   "cell_type": "code",
   "execution_count": 2,
   "id": "60f375fd",
   "metadata": {
    "scrolled": true
   },
   "outputs": [
    {
     "data": {
      "text/html": [
       "<div>\n",
       "<style scoped>\n",
       "    .dataframe tbody tr th:only-of-type {\n",
       "        vertical-align: middle;\n",
       "    }\n",
       "\n",
       "    .dataframe tbody tr th {\n",
       "        vertical-align: top;\n",
       "    }\n",
       "\n",
       "    .dataframe thead th {\n",
       "        text-align: right;\n",
       "    }\n",
       "</style>\n",
       "<table border=\"1\" class=\"dataframe\">\n",
       "  <thead>\n",
       "    <tr style=\"text-align: right;\">\n",
       "      <th></th>\n",
       "      <th>YearsExperience</th>\n",
       "      <th>Salary</th>\n",
       "    </tr>\n",
       "  </thead>\n",
       "  <tbody>\n",
       "    <tr>\n",
       "      <th>0</th>\n",
       "      <td>1.1</td>\n",
       "      <td>39343</td>\n",
       "    </tr>\n",
       "    <tr>\n",
       "      <th>1</th>\n",
       "      <td>1.3</td>\n",
       "      <td>46205</td>\n",
       "    </tr>\n",
       "    <tr>\n",
       "      <th>2</th>\n",
       "      <td>1.5</td>\n",
       "      <td>37731</td>\n",
       "    </tr>\n",
       "    <tr>\n",
       "      <th>3</th>\n",
       "      <td>2.0</td>\n",
       "      <td>43525</td>\n",
       "    </tr>\n",
       "    <tr>\n",
       "      <th>4</th>\n",
       "      <td>2.2</td>\n",
       "      <td>39891</td>\n",
       "    </tr>\n",
       "  </tbody>\n",
       "</table>\n",
       "</div>"
      ],
      "text/plain": [
       "   YearsExperience  Salary\n",
       "0              1.1   39343\n",
       "1              1.3   46205\n",
       "2              1.5   37731\n",
       "3              2.0   43525\n",
       "4              2.2   39891"
      ]
     },
     "execution_count": 2,
     "metadata": {},
     "output_type": "execute_result"
    }
   ],
   "source": [
    "df = pd.read_csv(\"salary.csv\")\n",
    "df.head()"
   ]
  },
  {
   "cell_type": "markdown",
   "id": "da418fcc",
   "metadata": {},
   "source": [
    "### Explorarity Data Aanalysis"
   ]
  },
  {
   "cell_type": "code",
   "execution_count": 3,
   "id": "401c8a38",
   "metadata": {},
   "outputs": [
    {
     "data": {
      "text/plain": [
       "35"
      ]
     },
     "execution_count": 3,
     "metadata": {},
     "output_type": "execute_result"
    }
   ],
   "source": [
    "len(df)"
   ]
  },
  {
   "cell_type": "code",
   "execution_count": 4,
   "id": "bf18ab85",
   "metadata": {},
   "outputs": [
    {
     "data": {
      "text/html": [
       "<div>\n",
       "<style scoped>\n",
       "    .dataframe tbody tr th:only-of-type {\n",
       "        vertical-align: middle;\n",
       "    }\n",
       "\n",
       "    .dataframe tbody tr th {\n",
       "        vertical-align: top;\n",
       "    }\n",
       "\n",
       "    .dataframe thead th {\n",
       "        text-align: right;\n",
       "    }\n",
       "</style>\n",
       "<table border=\"1\" class=\"dataframe\">\n",
       "  <thead>\n",
       "    <tr style=\"text-align: right;\">\n",
       "      <th></th>\n",
       "      <th>YearsExperience</th>\n",
       "      <th>Salary</th>\n",
       "    </tr>\n",
       "  </thead>\n",
       "  <tbody>\n",
       "    <tr>\n",
       "      <th>0</th>\n",
       "      <td>1.1</td>\n",
       "      <td>39343</td>\n",
       "    </tr>\n",
       "    <tr>\n",
       "      <th>1</th>\n",
       "      <td>1.3</td>\n",
       "      <td>46205</td>\n",
       "    </tr>\n",
       "    <tr>\n",
       "      <th>2</th>\n",
       "      <td>1.5</td>\n",
       "      <td>37731</td>\n",
       "    </tr>\n",
       "    <tr>\n",
       "      <th>3</th>\n",
       "      <td>2.0</td>\n",
       "      <td>43525</td>\n",
       "    </tr>\n",
       "    <tr>\n",
       "      <th>4</th>\n",
       "      <td>2.2</td>\n",
       "      <td>39891</td>\n",
       "    </tr>\n",
       "    <tr>\n",
       "      <th>5</th>\n",
       "      <td>2.9</td>\n",
       "      <td>56642</td>\n",
       "    </tr>\n",
       "    <tr>\n",
       "      <th>6</th>\n",
       "      <td>3.0</td>\n",
       "      <td>60150</td>\n",
       "    </tr>\n",
       "    <tr>\n",
       "      <th>7</th>\n",
       "      <td>3.2</td>\n",
       "      <td>54445</td>\n",
       "    </tr>\n",
       "    <tr>\n",
       "      <th>8</th>\n",
       "      <td>3.2</td>\n",
       "      <td>64445</td>\n",
       "    </tr>\n",
       "    <tr>\n",
       "      <th>9</th>\n",
       "      <td>3.7</td>\n",
       "      <td>57189</td>\n",
       "    </tr>\n",
       "  </tbody>\n",
       "</table>\n",
       "</div>"
      ],
      "text/plain": [
       "   YearsExperience  Salary\n",
       "0              1.1   39343\n",
       "1              1.3   46205\n",
       "2              1.5   37731\n",
       "3              2.0   43525\n",
       "4              2.2   39891\n",
       "5              2.9   56642\n",
       "6              3.0   60150\n",
       "7              3.2   54445\n",
       "8              3.2   64445\n",
       "9              3.7   57189"
      ]
     },
     "execution_count": 4,
     "metadata": {},
     "output_type": "execute_result"
    }
   ],
   "source": [
    "# First 10 rows\n",
    "df.head(10)"
   ]
  },
  {
   "cell_type": "code",
   "execution_count": 5,
   "id": "e791f38d",
   "metadata": {},
   "outputs": [
    {
     "data": {
      "text/html": [
       "<div>\n",
       "<style scoped>\n",
       "    .dataframe tbody tr th:only-of-type {\n",
       "        vertical-align: middle;\n",
       "    }\n",
       "\n",
       "    .dataframe tbody tr th {\n",
       "        vertical-align: top;\n",
       "    }\n",
       "\n",
       "    .dataframe thead th {\n",
       "        text-align: right;\n",
       "    }\n",
       "</style>\n",
       "<table border=\"1\" class=\"dataframe\">\n",
       "  <thead>\n",
       "    <tr style=\"text-align: right;\">\n",
       "      <th></th>\n",
       "      <th>YearsExperience</th>\n",
       "      <th>Salary</th>\n",
       "    </tr>\n",
       "  </thead>\n",
       "  <tbody>\n",
       "    <tr>\n",
       "      <th>0</th>\n",
       "      <td>1.1</td>\n",
       "      <td>39343</td>\n",
       "    </tr>\n",
       "    <tr>\n",
       "      <th>1</th>\n",
       "      <td>1.3</td>\n",
       "      <td>46205</td>\n",
       "    </tr>\n",
       "    <tr>\n",
       "      <th>2</th>\n",
       "      <td>1.5</td>\n",
       "      <td>37731</td>\n",
       "    </tr>\n",
       "    <tr>\n",
       "      <th>3</th>\n",
       "      <td>2.0</td>\n",
       "      <td>43525</td>\n",
       "    </tr>\n",
       "    <tr>\n",
       "      <th>4</th>\n",
       "      <td>2.2</td>\n",
       "      <td>39891</td>\n",
       "    </tr>\n",
       "    <tr>\n",
       "      <th>5</th>\n",
       "      <td>2.9</td>\n",
       "      <td>56642</td>\n",
       "    </tr>\n",
       "    <tr>\n",
       "      <th>6</th>\n",
       "      <td>3.0</td>\n",
       "      <td>60150</td>\n",
       "    </tr>\n",
       "    <tr>\n",
       "      <th>7</th>\n",
       "      <td>3.2</td>\n",
       "      <td>54445</td>\n",
       "    </tr>\n",
       "    <tr>\n",
       "      <th>8</th>\n",
       "      <td>3.2</td>\n",
       "      <td>64445</td>\n",
       "    </tr>\n",
       "    <tr>\n",
       "      <th>9</th>\n",
       "      <td>3.7</td>\n",
       "      <td>57189</td>\n",
       "    </tr>\n",
       "  </tbody>\n",
       "</table>\n",
       "</div>"
      ],
      "text/plain": [
       "   YearsExperience  Salary\n",
       "0              1.1   39343\n",
       "1              1.3   46205\n",
       "2              1.5   37731\n",
       "3              2.0   43525\n",
       "4              2.2   39891\n",
       "5              2.9   56642\n",
       "6              3.0   60150\n",
       "7              3.2   54445\n",
       "8              3.2   64445\n",
       "9              3.7   57189"
      ]
     },
     "execution_count": 5,
     "metadata": {},
     "output_type": "execute_result"
    }
   ],
   "source": [
    "# Last 10 rows\n",
    "df.head(10)"
   ]
  },
  {
   "cell_type": "code",
   "execution_count": 6,
   "id": "62a739c9",
   "metadata": {},
   "outputs": [
    {
     "name": "stdout",
     "output_type": "stream",
     "text": [
      "<class 'pandas.core.frame.DataFrame'>\n",
      "RangeIndex: 35 entries, 0 to 34\n",
      "Data columns (total 2 columns):\n",
      " #   Column           Non-Null Count  Dtype  \n",
      "---  ------           --------------  -----  \n",
      " 0   YearsExperience  35 non-null     float64\n",
      " 1   Salary           35 non-null     int64  \n",
      "dtypes: float64(1), int64(1)\n",
      "memory usage: 688.0 bytes\n"
     ]
    }
   ],
   "source": [
    "# df info\n",
    "df.info()"
   ]
  },
  {
   "cell_type": "code",
   "execution_count": 7,
   "id": "680c5a69",
   "metadata": {},
   "outputs": [
    {
     "data": {
      "text/plain": [
       "YearsExperience    0\n",
       "Salary             0\n",
       "dtype: int64"
      ]
     },
     "execution_count": 7,
     "metadata": {},
     "output_type": "execute_result"
    }
   ],
   "source": [
    "# Check for null values\n",
    "df.isnull().sum()"
   ]
  },
  {
   "cell_type": "code",
   "execution_count": 8,
   "id": "8c73338b",
   "metadata": {},
   "outputs": [
    {
     "data": {
      "text/plain": [
       "Index(['YearsExperience', 'Salary'], dtype='object')"
      ]
     },
     "execution_count": 8,
     "metadata": {},
     "output_type": "execute_result"
    }
   ],
   "source": [
    "# view columns\n",
    "df.columns"
   ]
  },
  {
   "cell_type": "code",
   "execution_count": 9,
   "id": "5d274893",
   "metadata": {},
   "outputs": [
    {
     "data": {
      "text/plain": [
       "13.5"
      ]
     },
     "execution_count": 9,
     "metadata": {},
     "output_type": "execute_result"
    }
   ],
   "source": [
    "df[\"YearsExperience\"].max()"
   ]
  },
  {
   "cell_type": "code",
   "execution_count": 10,
   "id": "0d99e846",
   "metadata": {
    "scrolled": false
   },
   "outputs": [
    {
     "data": {
      "text/plain": [
       "Text(0, 0.5, 'Persons')"
      ]
     },
     "execution_count": 10,
     "metadata": {},
     "output_type": "execute_result"
    },
    {
     "data": {
      "image/png": "[encoded data removed]",
      "text/plain": [
       "<Figure size 432x288 with 1 Axes>"
      ]
     },
     "metadata": {
      "needs_background": "light"
     },
     "output_type": "display_data"
    }
   ],
   "source": [
    "# Distribution of Years of Experience\n",
    "df[\"YearsExperience\"].hist(color=\"blue\")\n",
    "plt.title(\"Years of Experience\")\n",
    "plt.xlabel(\"Years\")\n",
    "plt.ylabel(\"Persons\")"
   ]
  },
  {
   "cell_type": "code",
   "execution_count": 11,
   "id": "943edf1f",
   "metadata": {},
   "outputs": [
    {
     "data": {
      "text/plain": [
       "count        35.000000\n",
       "mean      83945.600000\n",
       "std       32162.673003\n",
       "min       37731.000000\n",
       "25%       57019.000000\n",
       "50%       81363.000000\n",
       "75%      113223.500000\n",
       "max      139465.000000\n",
       "Name: Salary, dtype: float64"
      ]
     },
     "execution_count": 11,
     "metadata": {},
     "output_type": "execute_result"
    }
   ],
   "source": [
    "# Salary descriptive statistics\n",
    "df[\"Salary\"].describe()"
   ]
  },
  {
   "cell_type": "code",
   "execution_count": 12,
   "id": "87850417",
   "metadata": {
    "scrolled": true
   },
   "outputs": [
    {
     "data": {
      "text/plain": [
       "<matplotlib.collections.PathCollection at 0x2655a8313d0>"
      ]
     },
     "execution_count": 12,
     "metadata": {},
     "output_type": "execute_result"
    },
    {
     "data": {
      "image/png": "[encoded data removed]",
      "text/plain": [
       "<Figure size 432x288 with 1 Axes>"
      ]
     },
     "metadata": {
      "needs_background": "light"
     },
     "output_type": "display_data"
    }
   ],
   "source": [
    "fig, ax = plt.subplots()\n",
    "ax.scatter(df[\"YearsExperience\"], df[\"Salary\"])"
   ]
  },
  {
   "cell_type": "code",
   "execution_count": 13,
   "id": "d216194d",
   "metadata": {},
   "outputs": [
    {
     "data": {
      "text/plain": [
       "[<matplotlib.lines.Line2D at 0x2655a87dd60>]"
      ]
     },
     "execution_count": 13,
     "metadata": {},
     "output_type": "execute_result"
    },
    {
     "data": {
      "image/png": "[encoded data removed]",
      "text/plain": [
       "<Figure size 432x288 with 1 Axes>"
      ]
     },
     "metadata": {
      "needs_background": "light"
     },
     "output_type": "display_data"
    }
   ],
   "source": [
    "fig, ax = plt.subplots()\n",
    "ax.plot(df[\"YearsExperience\"], df[\"Salary\"])"
   ]
  },
  {
   "cell_type": "code",
   "execution_count": 14,
   "id": "98d3da3e",
   "metadata": {
    "scrolled": false
   },
   "outputs": [
    {
     "data": {
      "text/html": [
       "<style type=\"text/css\">\n",
       "#T_8d319_row0_col0, #T_8d319_row1_col1 {\n",
       "  background-color: #f7fbff;\n",
       "  color: #000000;\n",
       "}\n",
       "#T_8d319_row0_col1, #T_8d319_row1_col0 {\n",
       "  background-color: #08306b;\n",
       "  color: #f1f1f1;\n",
       "}\n",
       "</style>\n",
       "<table id=\"T_8d319_\">\n",
       "  <thead>\n",
       "    <tr>\n",
       "      <th class=\"blank level0\" >&nbsp;</th>\n",
       "      <th class=\"col_heading level0 col0\" >YearsExperience</th>\n",
       "      <th class=\"col_heading level0 col1\" >Salary</th>\n",
       "    </tr>\n",
       "  </thead>\n",
       "  <tbody>\n",
       "    <tr>\n",
       "      <th id=\"T_8d319_level0_row0\" class=\"row_heading level0 row0\" >YearsExperience</th>\n",
       "      <td id=\"T_8d319_row0_col0\" class=\"data row0 col0\" >1.000000</td>\n",
       "      <td id=\"T_8d319_row0_col1\" class=\"data row0 col1\" >0.982427</td>\n",
       "    </tr>\n",
       "    <tr>\n",
       "      <th id=\"T_8d319_level0_row1\" class=\"row_heading level0 row1\" >Salary</th>\n",
       "      <td id=\"T_8d319_row1_col0\" class=\"data row1 col0\" >0.982427</td>\n",
       "      <td id=\"T_8d319_row1_col1\" class=\"data row1 col1\" >1.000000</td>\n",
       "    </tr>\n",
       "  </tbody>\n",
       "</table>\n"
      ],
      "text/plain": [
       "<pandas.io.formats.style.Styler at 0x2655a8aa9a0>"
      ]
     },
     "execution_count": 14,
     "metadata": {},
     "output_type": "execute_result"
    }
   ],
   "source": [
    "# correlation of feature and label\n",
    "corr_mat = df.corr()\n",
    "corr_mat.style.background_gradient(cmap='Blues_r')"
   ]
  },
  {
   "cell_type": "markdown",
   "id": "409544a1",
   "metadata": {},
   "source": [
    " ## Modelling"
   ]
  },
  {
   "cell_type": "code",
   "execution_count": 15,
   "id": "bac5e2c0",
   "metadata": {},
   "outputs": [],
   "source": [
    "# Create evaluation helper function\n",
    "def eval_scores(model):\n",
    "    y_preds = model.predict(X_test)\n",
    "    scores= {\"r2_score\": r2_score(y_test, y_preds),\n",
    "            \"mean_absolute_error\": mean_absolute_error(y_test, y_preds),\n",
    "            \"mean_squared_error\": mean_squared_error(y_test, y_preds)}\n",
    "    return scores"
   ]
  },
  {
   "cell_type": "code",
   "execution_count": 16,
   "id": "05e105e5",
   "metadata": {},
   "outputs": [],
   "source": [
    "#Split X/y\n",
    "\n",
    "X = df.drop(\"Salary\",axis= 1)\n",
    "y = df[\"Salary\"]"
   ]
  },
  {
   "cell_type": "code",
   "execution_count": 17,
   "id": "585afc98",
   "metadata": {},
   "outputs": [],
   "source": [
    "#Split train/\n",
    "\n",
    "X_train, X_test, y_train, y_test = train_test_split(X, y, train_size=0.8)"
   ]
  },
  {
   "cell_type": "markdown",
   "id": "428a9a24",
   "metadata": {},
   "source": [
    "### First Model: SGDRegressor() "
   ]
  },
  {
   "cell_type": "code",
   "execution_count": 18,
   "id": "92944bc7",
   "metadata": {},
   "outputs": [
    {
     "data": {
      "text/plain": [
       "SGDRegressor()"
      ]
     },
     "execution_count": 18,
     "metadata": {},
     "output_type": "execute_result"
    }
   ],
   "source": [
    "#Instantiate model and Fit data to model\n",
    "model_1 = SGDRegressor()\n",
    "\n",
    "model_1.fit(X_train, y_train)\n"
   ]
  },
  {
   "cell_type": "markdown",
   "id": "1ba546e9",
   "metadata": {},
   "source": [
    "##### Baseline result of model_1\n",
    "The model produced an r2_score of 96.2%"
   ]
  },
  {
   "cell_type": "code",
   "execution_count": 19,
   "id": "91338d2e",
   "metadata": {},
   "outputs": [
    {
     "data": {
      "text/plain": [
       "{'r2_score': 0.7718898524037573,\n",
       " 'mean_absolute_error': 12524.842466765764,\n",
       " 'mean_squared_error': 188069297.83814445}"
      ]
     },
     "execution_count": 19,
     "metadata": {},
     "output_type": "execute_result"
    }
   ],
   "source": [
    "eval_scores(model_1)"
   ]
  },
  {
   "cell_type": "markdown",
   "id": "6169a6a8",
   "metadata": {},
   "source": [
    "### Second Model: RandomForestRegressor()"
   ]
  },
  {
   "cell_type": "code",
   "execution_count": 20,
   "id": "489c7cf1",
   "metadata": {},
   "outputs": [
    {
     "data": {
      "text/plain": [
       "RandomForestRegressor()"
      ]
     },
     "execution_count": 20,
     "metadata": {},
     "output_type": "execute_result"
    }
   ],
   "source": [
    "#Instantiate model and fit data to model\n",
    "model_2 = RandomForestRegressor()\n",
    "model_2.fit(X_train, y_train)"
   ]
  },
  {
   "cell_type": "markdown",
   "id": "0dd462d8",
   "metadata": {},
   "source": [
    "##### Baseline result of model_2\n",
    "The model produced an r2_score of 97.5%"
   ]
  },
  {
   "cell_type": "code",
   "execution_count": 21,
   "id": "31c753fc",
   "metadata": {},
   "outputs": [
    {
     "data": {
      "text/plain": [
       "{'r2_score': 0.9274940516958313,\n",
       " 'mean_absolute_error': 6247.700714285716,\n",
       " 'mean_squared_error': 59778764.47123217}"
      ]
     },
     "execution_count": 21,
     "metadata": {},
     "output_type": "execute_result"
    }
   ],
   "source": [
    "eval_scores(model_2)"
   ]
  },
  {
   "cell_type": "markdown",
   "id": "d0ce0746",
   "metadata": {},
   "source": [
    "# Experimentation"
   ]
  },
  {
   "cell_type": "markdown",
   "id": "0169de14",
   "metadata": {},
   "source": [
    "## Hyperparameter tuning with RandomizedSearchCV"
   ]
  },
  {
   "cell_type": "markdown",
   "id": "8d03b438",
   "metadata": {},
   "source": [
    "We are moving forward with the model with the highest coefficient of determinats score, model_2"
   ]
  },
  {
   "cell_type": "code",
   "execution_count": 22,
   "id": "572c0bd5",
   "metadata": {},
   "outputs": [
    {
     "data": {
      "text/plain": [
       "RandomForestRegressor()"
      ]
     },
     "execution_count": 22,
     "metadata": {},
     "output_type": "execute_result"
    }
   ],
   "source": [
    "model_2"
   ]
  },
  {
   "cell_type": "code",
   "execution_count": 23,
   "id": "ca328a33",
   "metadata": {},
   "outputs": [],
   "source": [
    "# Different RandomForestClassifier hyperparameters\n",
    "rs_grid = {\"n_estimators\": np.arange(10, 100, 10),\n",
    "           \"max_depth\": [None, 3, 5, 10],\n",
    "           \"min_samples_split\": np.arange(2, 20, 2),\n",
    "           \"min_samples_leaf\": np.arange(1, 20, 2),\n",
    "           \"max_features\": [0.5, 1, \"sqrt\", \"auto\"]}"
   ]
  },
  {
   "cell_type": "code",
   "execution_count": 24,
   "id": "d486c9da",
   "metadata": {},
   "outputs": [],
   "source": [
    "# Instantiate RandomizeSearchCV model\n",
    "rs_model = RandomizedSearchCV(estimator= model_2,\n",
    "                              param_distributions= rs_grid,\n",
    "                              n_iter= 20,\n",
    "                              cv= 5,\n",
    "                              verbose= True)"
   ]
  },
  {
   "cell_type": "code",
   "execution_count": 25,
   "id": "267dd895",
   "metadata": {},
   "outputs": [
    {
     "name": "stdout",
     "output_type": "stream",
     "text": [
      "Fitting 5 folds for each of 20 candidates, totalling 100 fits\n"
     ]
    },
    {
     "data": {
      "text/plain": [
       "RandomizedSearchCV(cv=5, estimator=RandomForestRegressor(), n_iter=20,\n",
       "                   param_distributions={'max_depth': [None, 3, 5, 10],\n",
       "                                        'max_features': [0.5, 1, 'sqrt',\n",
       "                                                         'auto'],\n",
       "                                        'min_samples_leaf': array([ 1,  3,  5,  7,  9, 11, 13, 15, 17, 19]),\n",
       "                                        'min_samples_split': array([ 2,  4,  6,  8, 10, 12, 14, 16, 18]),\n",
       "                                        'n_estimators': array([10, 20, 30, 40, 50, 60, 70, 80, 90])},\n",
       "                   verbose=True)"
      ]
     },
     "execution_count": 25,
     "metadata": {},
     "output_type": "execute_result"
    }
   ],
   "source": [
    "# Fit RandomizeSearchCV model\n",
    "rs_model.fit(X_train, y_train)"
   ]
  },
  {
   "cell_type": "code",
   "execution_count": 26,
   "id": "fef4ff09",
   "metadata": {},
   "outputs": [
    {
     "data": {
      "text/plain": [
       "{'n_estimators': 40,\n",
       " 'min_samples_split': 2,\n",
       " 'min_samples_leaf': 1,\n",
       " 'max_features': 'auto',\n",
       " 'max_depth': 3}"
      ]
     },
     "execution_count": 26,
     "metadata": {},
     "output_type": "execute_result"
    }
   ],
   "source": [
    "#View best parameteres for the RandomizedSearch Cv\n",
    "rs_model.best_params_"
   ]
  },
  {
   "cell_type": "code",
   "execution_count": 27,
   "id": "b55c1050",
   "metadata": {},
   "outputs": [
    {
     "data": {
      "text/plain": [
       "{'r2_score': 0.9380231157271255,\n",
       " 'mean_absolute_error': 5584.608687384045,\n",
       " 'mean_squared_error': 51097898.231281675}"
      ]
     },
     "execution_count": 27,
     "metadata": {},
     "output_type": "execute_result"
    }
   ],
   "source": [
    "# Evaluate RandomizedSearch model\n",
    "eval_scores(rs_model)"
   ]
  },
  {
   "cell_type": "markdown",
   "id": "e2c169af",
   "metadata": {},
   "source": [
    "### Train Model with best parameters (best_params_)"
   ]
  },
  {
   "cell_type": "code",
   "execution_count": 38,
   "id": "db3e4540",
   "metadata": {},
   "outputs": [
    {
     "data": {
      "text/plain": [
       "{'r2_score': 0.7744371470972106,\n",
       " 'mean_absolute_error': 11549.230326511935,\n",
       " 'mean_squared_error': 185969137.32607222}"
      ]
     },
     "execution_count": 38,
     "metadata": {},
     "output_type": "execute_result"
    }
   ],
   "source": [
    "# Instantiate model\n",
    "model_3 = RandomForestRegressor(n_estimators=40,\n",
    "                               min_samples_split=6,\n",
    "                               min_samples_leaf=5,\n",
    "                               max_features='auto',\n",
    "                               max_depth=3)\n",
    "\n",
    "# Fit model\n",
    "model_3.fit(X_train, y_train)\n",
    "\n",
    "# Score model\n",
    "eval_scores(model_3)"
   ]
  },
  {
   "cell_type": "markdown",
   "id": "19c8e096",
   "metadata": {},
   "source": [
    "# Salary Prediction model"
   ]
  },
  {
   "cell_type": "code",
   "execution_count": 36,
   "id": "0262620d",
   "metadata": {
    "scrolled": true
   },
   "outputs": [
    {
     "name": "stdout",
     "output_type": "stream",
     "text": [
      "How many years experience do you have? 2\n",
      "Your salary is predicted to be approximately $52251\n"
     ]
    }
   ],
   "source": [
    "num_years = int(input(\"How many years experience do you have? \"))\n",
    "salary_predict = model_3.predict([[num_years]])\n",
    "print(f\"Your salary is predicted to be approximately ${int(salary_predict)}\")"
   ]
  }
 ],
 "metadata": {
  "kernelspec": {
   "display_name": "Python 3",
   "language": "python",
   "name": "python3"
  },
  "language_info": {
   "codemirror_mode": {
    "name": "ipython",
    "version": 3
   },
   "file_extension": ".py",
   "mimetype": "text/x-python",
   "name": "python",
   "nbconvert_exporter": "python",
   "pygments_lexer": "ipython3",
   "version": "3.8.8"
  }
 },
 "nbformat": 4,
 "nbformat_minor": 5
}
